{
 "cells": [
  {
   "cell_type": "markdown",
   "metadata": {},
   "source": [
    "# Dash 简介\n",
    "\n",
    "\n",
    "````{admonition} 导航\n",
    ":class: tip, dropdown; w3-pale-blue w3-card-4 w3-padding w3-round-xlarge w3-margin-top\n",
    "\n",
    "{term}`Dash` 是 Plotly 开源的 {term}`Python`（以及 [R](https://dashr.plotly.com/) 和 [Julia](https://github.com/plotly/dash.jl) 等）框架，用于使用纯 Python（不需要 {term}`JavaScript`）构建全栈分析 web 应用程序。得益于 [Dash DevTools](https://dash.plotly.com/devtools) 提供的热加载和前端错误报告等功能，开发者可以使用传统的文本编辑器或集成开发环境(IDE)快速迭代应用设计。\n",
    "````"
   ]
  }
 ],
 "metadata": {
  "kernelspec": {
   "display_name": "py311",
   "language": "python",
   "name": "python3"
  },
  "language_info": {
   "name": "python",
   "version": "3.11.7"
  }
 },
 "nbformat": 4,
 "nbformat_minor": 2
}
