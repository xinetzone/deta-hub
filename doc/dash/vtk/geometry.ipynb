{
 "cells": [
  {
   "cell_type": "markdown",
   "metadata": {},
   "source": [
    "# 几何渲染\n",
    "\n",
    "展示一些使用 `dash_vtk` 渲染网格的例子。"
   ]
  },
  {
   "cell_type": "code",
   "execution_count": 1,
   "metadata": {},
   "outputs": [],
   "source": [
    "from plotly import graph_objects as go\n",
    "\n",
    "go.FigureWidget(); # 初始化"
   ]
  },
  {
   "cell_type": "code",
   "execution_count": 2,
   "metadata": {},
   "outputs": [
    {
     "data": {
      "application/vnd.jupyter.widget-view+json": {
       "model_id": "6926055bd17e47bb8533838755ec23c1",
       "version_major": 2,
       "version_minor": 0
      },
      "text/plain": [
       "FigureWidget({\n",
       "    'data': [{'type': 'bar', 'uid': 'cd658b84-9c5a-4b6e-aee5-1e8d7c8f8265', 'y': [2, 3, 1]}],\n",
       "    'layout': {'template': '...'}\n",
       "})"
      ]
     },
     "execution_count": 2,
     "metadata": {},
     "output_type": "execute_result"
    }
   ],
   "source": [
    "# from IPython.display import HTML\n",
    "import plotly.graph_objects as go\n",
    "fig = go.FigureWidget(data=go.Bar(y=[2, 3, 1]))\n",
    "fig"
   ]
  },
  {
   "cell_type": "code",
   "execution_count": null,
   "metadata": {
    "tags": [
     "hidden-input"
    ]
   },
   "outputs": [],
   "source": [
    "from dash import Dash, html\n",
    "\n",
    "import dash_vtk\n",
    "from dash_vtk.utils import to_mesh_state\n",
    "\n",
    "try:\n",
    "    # VTK 9+\n",
    "    from vtkmodules.vtkImagingCore import vtkRTAnalyticSource\n",
    "except ImportError:\n",
    "    # VTK =< 8\n",
    "    from vtk.vtkImagingCore import vtkRTAnalyticSource\n",
    "\n",
    "# Use VTK to get some data\n",
    "data_source = vtkRTAnalyticSource()\n",
    "data_source.Update()  # <= Execute source to produce an output\n",
    "dataset = data_source.GetOutput()\n",
    "\n",
    "# Use helper to get a mesh structure that can be passed as-is to a Mesh\n",
    "# RTData is the name of the field\n",
    "mesh_state = to_mesh_state(dataset)\n",
    "\n",
    "content = dash_vtk.View([\n",
    "    dash_vtk.GeometryRepresentation([\n",
    "        dash_vtk.Mesh(state=mesh_state)\n",
    "    ]),\n",
    "])\n",
    "\n",
    "# Dash setup\n",
    "app = Dash(__name__)\n",
    "server = app.server\n",
    "\n",
    "app.layout = html.Div(\n",
    "    style={\"width\": \"100%\", \"height\": \"400px\"},\n",
    "    children=[content],\n",
    ")\n",
    "\n",
    "if __name__ == \"__main__\":\n",
    "    app.run(debug=True)\n"
   ]
  },
  {
   "cell_type": "code",
   "execution_count": null,
   "metadata": {},
   "outputs": [],
   "source": [
    "import plotly.express as px\n",
    "import plotly.graph_objects as go\n",
    "\n",
    "fig = px.line(x=[\"a\",\"b\",\"c\"], y=[1,3,2], title=\"sample figure\")\n",
    "f = go.FigureWidget(fig) # go.FigureWidget 保证正常显示\n",
    "f"
   ]
  },
  {
   "cell_type": "code",
   "execution_count": null,
   "metadata": {},
   "outputs": [],
   "source": []
  }
 ],
 "metadata": {
  "kernelspec": {
   "display_name": "py311",
   "language": "python",
   "name": "python3"
  },
  "language_info": {
   "codemirror_mode": {
    "name": "ipython",
    "version": 3
   },
   "file_extension": ".py",
   "mimetype": "text/x-python",
   "name": "python",
   "nbconvert_exporter": "python",
   "pygments_lexer": "ipython3",
   "version": "3.11.7"
  }
 },
 "nbformat": 4,
 "nbformat_minor": 2
}
