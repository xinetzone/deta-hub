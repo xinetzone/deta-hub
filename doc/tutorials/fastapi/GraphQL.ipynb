{
 "cells": [
  {
   "attachments": {},
   "cell_type": "markdown",
   "metadata": {},
   "source": [
    "# FastAPI 之 GraphQL\n",
    "\n",
    "参考：[GraphQL](https://fastapi.tiangolo.com/zh/advanced/graphql/)\n",
    "\n",
    "因为 FastAPI 是基于 ASGI 标准的，所以集成任何与 ASGI 兼容的 GraphQL 库都非常容易。"
   ]
  }
 ],
 "metadata": {
  "kernelspec": {
   "display_name": "py310",
   "language": "python",
   "name": "python3"
  },
  "language_info": {
   "name": "python",
   "version": "3.10.6 | packaged by conda-forge | (main, Oct 24 2022, 16:02:16) [MSC v.1916 64 bit (AMD64)]"
  },
  "orig_nbformat": 4,
  "vscode": {
   "interpreter": {
    "hash": "7e468feb35f514aafce3cc952fb1f3b43bab876fc14f6450ea05924ae7e4a934"
   }
  }
 },
 "nbformat": 4,
 "nbformat_minor": 2
}
